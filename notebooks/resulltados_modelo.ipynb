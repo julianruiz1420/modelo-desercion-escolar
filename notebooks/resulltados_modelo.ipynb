{
 "cells": [
  {
   "cell_type": "markdown",
   "id": "157bdbc3",
   "metadata": {},
   "source": [
    "Resultados de modelo de REGRESIÓN LINEAL"
   ]
  },
  {
   "cell_type": "code",
   "execution_count": null,
   "id": "ca44576e",
   "metadata": {},
   "outputs": [],
   "source": [
    "\n",
    "from sklearn.linear_model import LinearRegression\n",
    "from sklearn.model_selection import train_test_split\n",
    "from sklearn.metrics import r2_score, mean_squared_error, mean_absolute_error\n",
    "import numpy as np\n",
    "\n",
    "def entrenar_regresion_lineal(df, target_col='DESERCIÓN'):\n",
    "    \n",
    "    X = df.drop(columns=[target_col])\n",
    "    y = df[target_col]\n",
    "\n",
    "    # Dividir los datos en entrenamiento (80%) y prueba (20%)\n",
    "    \n",
    "    X_train, X_test, y_train, y_test = train_test_split(X, y, test_size=0.2, random_state=42)\n",
    "\n",
    "  \n",
    "    modelo = LinearRegression()\n",
    "    modelo.fit(X_train, y_train)\n",
    "\n",
    "    # Realizar predicciones sobre el conjunto de prueba\n",
    "    y_pred = modelo.predict(X_test)\n",
    "\n",
    "    # Crear un reporte con las métricas de evaluación\n",
    "    reporte = {\n",
    "        'R2': r2_score(y_test, y_pred),  # Coeficiente de determinación R2\n",
    "        'MAE': mean_absolute_error(y_test, y_pred),  # Error absoluto medio\n",
    "        'RMSE': np.sqrt(mean_squared_error(y_test, y_pred)),  # Raíz del error cuadrático medio\n",
    "        'Coeficientes': dict(zip(X.columns, modelo.coef_))  # Coeficientes de la regresión lineal\n",
    "    }\n",
    "\n",
    "    # Retornar el modelo entrenado y el reporte de evaluación\n",
    "    return modelo, reporte"
   ]
  },
  {
   "cell_type": "markdown",
   "id": "834b4312",
   "metadata": {},
   "source": [
    "| Métrica  | Valor    | Comentario                                                                                                     |\n",
    "| -------- | -------- | -------------------------------------------------------------------------------------------------------------- |\n",
    "| **R²**   | `0.2188` | El modelo ahora explica el **21.9%** de la variabilidad de la deserción. Aún bajo, pero **mejor que antes**.   |\n",
    "| **MAE**  | `1.22`   | Error absoluto medio un poco menor. Indica que las predicciones están un poco más cerca de los valores reales. |\n",
    "| **RMSE** | `1.50`   | Error cuadrático medio más bajo, pero la diferencia frente al MAE indica **algunos errores grandes**.          |\n"
   ]
  },
  {
   "cell_type": "markdown",
   "id": "283e9fc2",
   "metadata": {},
   "source": [
    "| Variable                      | Coeficiente | Interpretación                                                             |\n",
    "| ----------------------------- | ----------- | -------------------------------------------------------------------------- |\n",
    "| `COBERTURA_NETA`              | -0.038      | Mayor cobertura neta reduce la deserción.                                  |\n",
    "| `TAMAÑO_PROMEDIO_DE_GRUPO`    | -0.0000174  | Ligeramente negativo; efecto marginal.                                     |\n",
    "| `SEDES_CONECTADAS_A_INTERNET` | -0.0177     | Conectividad reduce la deserción.                                          |\n",
    "| `REPROBACIÓN`                 | +0.142      | Más reprobación se asocia con más deserción.                               |\n",
    "| `REPITENCIA`                  | -0.0315     | Contrario a lo esperado; podrías revisar su interpretación o distribución. |\n"
   ]
  },
  {
   "cell_type": "markdown",
   "id": "2447c855",
   "metadata": {},
   "source": []
  }
 ],
 "metadata": {
  "kernelspec": {
   "display_name": "venv",
   "language": "python",
   "name": "python3"
  },
  "language_info": {
   "name": "python",
   "version": "3.10.11"
  }
 },
 "nbformat": 4,
 "nbformat_minor": 5
}
