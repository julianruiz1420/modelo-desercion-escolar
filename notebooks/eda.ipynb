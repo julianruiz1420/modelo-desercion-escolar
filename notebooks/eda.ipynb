{
 "cells": [
  {
   "cell_type": "code",
   "execution_count": 22,
   "id": "8f394a26",
   "metadata": {},
   "outputs": [
    {
     "ename": "ModuleNotFoundError",
     "evalue": "No module named 'data_cleaning'",
     "output_type": "error",
     "traceback": [
      "\u001b[1;31m---------------------------------------------------------------------------\u001b[0m",
      "\u001b[1;31mModuleNotFoundError\u001b[0m                       Traceback (most recent call last)",
      "Cell \u001b[1;32mIn[22], line 14\u001b[0m\n\u001b[0;32m      9\u001b[0m \u001b[38;5;66;03m# Agrega la carpeta 'src' al path para que Python sepa dónde buscar\u001b[39;00m\n\u001b[0;32m     11\u001b[0m sys\u001b[38;5;241m.\u001b[39mpath\u001b[38;5;241m.\u001b[39mappend(os\u001b[38;5;241m.\u001b[39mpath\u001b[38;5;241m.\u001b[39mjoin(os\u001b[38;5;241m.\u001b[39mgetcwd(), \u001b[38;5;124m\"\u001b[39m\u001b[38;5;124msrc\u001b[39m\u001b[38;5;124m\"\u001b[39m))\n\u001b[1;32m---> 14\u001b[0m \u001b[38;5;28;01mfrom\u001b[39;00m\u001b[38;5;250m \u001b[39m\u001b[38;5;21;01mdata_cleaning\u001b[39;00m\u001b[38;5;250m \u001b[39m\u001b[38;5;28;01mimport\u001b[39;00m limpiar_datos  \u001b[38;5;66;03m# importa la función\u001b[39;00m\n\u001b[0;32m     16\u001b[0m \u001b[38;5;66;03m# Cargar los datos\u001b[39;00m\n\u001b[0;32m     17\u001b[0m df \u001b[38;5;241m=\u001b[39m pd\u001b[38;5;241m.\u001b[39mread_csv(\u001b[38;5;124m\"\u001b[39m\u001b[38;5;124mD:\u001b[39m\u001b[38;5;124m\\\u001b[39m\u001b[38;5;124mmi_proyecto\u001b[39m\u001b[38;5;124m\\\u001b[39m\u001b[38;5;124mdata\u001b[39m\u001b[38;5;130;01m\\r\u001b[39;00m\u001b[38;5;124maw\u001b[39m\u001b[38;5;124m\\\u001b[39m\u001b[38;5;124meducacion_original.csv\u001b[39m\u001b[38;5;124m\"\u001b[39m)\n",
      "\u001b[1;31mModuleNotFoundError\u001b[0m: No module named 'data_cleaning'"
     ]
    }
   ],
   "source": [
    "import sys\n",
    "import os\n",
    "import pandas as pd\n",
    "import matplotlib.pyplot as plt\n",
    "import seaborn as sns\n",
    "import sys\n",
    "import os\n",
    "\n",
    "# Agrega la carpeta 'src' al path para que Python sepa dónde buscar\n",
    "\n",
    "sys.path.append(os.path.join(os.getcwd(), \"src\"))\n",
    "\n",
    "\n",
    "from data_cleaning import limpiar_datos  # importa la función\n",
    "\n",
    "# Cargar los datos\n",
    "df = pd.read_csv(\"D:\\mi_proyecto\\data\\raw\\educacion_original.csv\")\n",
    "\n",
    "# Aplicar limpieza\n",
    "\n",
    "df_limpio = limpiar_datos(df_limpia)\n",
    "\n",
    "print(df.columns)\n",
    "\n",
    "# Histograma\n",
    "df[\"DESERCIÓN\"].hist(bins=30)\n",
    "plt.title(\"Distribución de la Deserción Escolar\")\n",
    "plt.xlabel(\"DEPARTAMENTO\")\n",
    "plt.ylabel(\"DEPARTAMENTO\")\n",
    "plt.show()\n",
    "\n",
    "\n",
    "# Asegúrate de que las columnas existen con estos nombres en tu DataFrame:\n",
    "\n",
    "x = \"COBERTURA_NETA\"\n",
    "y = \"DESERCIÓN\"\n",
    "\n",
    "# Gráfico\n",
    "plt.figure(figsize=(10, 6))\n",
    "\n",
    "sns.scatterplot(data=df, x=x, y=y, hue=\"DEPARTAMENTO\", palette=\"tab20\", alpha=0.7, edgecolor=None)\n",
    "plt.title(\"Relación entre Cobertura Neta y Deserción Escolar\")\n",
    "plt.xlabel(\"Cobertura Neta (%)\")\n",
    "plt.ylabel(\"Deserción Escolar (%)\")\n",
    "plt.legend(bbox_to_anchor=(1.05, 1), loc='upper left')\n",
    "plt.tight_layout()\n",
    "plt.show()\n",
    "\n",
    "x = \"DEPARTAMENTO\"\n",
    "y = \"DESERCIÓN\"\n",
    "\n",
    "# Gráfico\n",
    "plt.figure(figsize=(10, 6))\n",
    "\n",
    "sns.scatterplot(data=df, x=x, y=y, hue=\"DEPARTAMENTO\", palette=\"tab20\", alpha=0.7, edgecolor=None)\n",
    "plt.title(\"Relación entre Cobertura Neta y Deserción Escolar\")\n",
    "plt.xlabel(\"Cobertura Neta (%)\")\n",
    "plt.ylabel(\"Deserción Escolar (%)\")\n",
    "plt.legend(bbox_to_anchor=(1.05, 1), loc='upper left')\n",
    "plt.tight_layout()\n",
    "plt.show()\n",
    "\n"
   ]
  },
  {
   "cell_type": "markdown",
   "id": "dab48607",
   "metadata": {},
   "source": [
    "Analisis exploratorio univariado y bivariado"
   ]
  }
 ],
 "metadata": {
  "kernelspec": {
   "display_name": "venv",
   "language": "python",
   "name": "python3"
  },
  "language_info": {
   "codemirror_mode": {
    "name": "ipython",
    "version": 3
   },
   "file_extension": ".py",
   "mimetype": "text/x-python",
   "name": "python",
   "nbconvert_exporter": "python",
   "pygments_lexer": "ipython3",
   "version": "3.10.11"
  }
 },
 "nbformat": 4,
 "nbformat_minor": 5
}
